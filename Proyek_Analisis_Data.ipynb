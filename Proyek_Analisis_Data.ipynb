{
 "cells": [
  {
   "cell_type": "markdown",
   "metadata": {
    "id": "H9wADwK78DCz"
   },
   "source": [
    "# Proyek Analisis Data: E-Commerce Public Dataset\n",
    "- **Nama:** Muchamad Aldi Firmansyah\n",
    "- **Email:** aldif0317@gmail.com\n",
    "- **ID Dicoding:** aldi_03"
   ]
  },
  {
   "cell_type": "markdown",
   "metadata": {
    "id": "eE0raob58DC0"
   },
   "source": [
    "## Menentukan Pertanyaan Bisnis"
   ]
  },
  {
   "cell_type": "markdown",
   "metadata": {
    "id": "GmQeQ5YF8DC0"
   },
   "source": [
    "- Bagaimana performa penjualan dan revenue perusahaan dalam beberapa bulan terakhir?\n",
    "- Produk apa yang paling banyak dan paling sedikit terjual?\n",
    "- Bagaimana demografi pelanggan yang kita miliki?"
   ]
  },
  {
   "cell_type": "markdown",
   "metadata": {
    "id": "H-z4QGlO8DC1"
   },
   "source": [
    "## Import Semua Packages/Library yang Digunakan"
   ]
  },
  {
   "cell_type": "code",
   "execution_count": 6,
   "metadata": {
    "id": "FVYwaObI8DC1"
   },
   "outputs": [],
   "source": [
    "import pandas as pd\n",
    "import matplotlib.pyplot as plt\n",
    "import seaborn as sns\n",
    "import os\n",
    "\n",
    "# Set style untuk visualisasi\n",
    "sns.set(style=\"whitegrid\")"
   ]
  },
  {
   "cell_type": "code",
   "execution_count": 7,
   "metadata": {},
   "outputs": [
    {
     "name": "stdout",
     "output_type": "stream",
     "text": [
      "C:\\Users\\Aldi\\dicoding proyek\\ecommerce_dataset\\submission\n"
     ]
    }
   ],
   "source": [
    "import os\n",
    "print(os.getcwd())"
   ]
  },
  {
   "cell_type": "code",
   "execution_count": 8,
   "metadata": {},
   "outputs": [
    {
     "data": {
      "text/plain": [
       "['.ipynb_checkpoints', 'dashboard', 'data', 'Proyek_Analisis_Data.ipynb']"
      ]
     },
     "execution_count": 8,
     "metadata": {},
     "output_type": "execute_result"
    }
   ],
   "source": [
    "os.listdir()"
   ]
  },
  {
   "cell_type": "markdown",
   "metadata": {
    "id": "h_Sh51Xy8DC1"
   },
   "source": [
    "## Data Wrangling"
   ]
  },
  {
   "cell_type": "markdown",
   "metadata": {
    "id": "sXU2GBYu8DC1"
   },
   "source": [
    "### Gathering Data"
   ]
  },
  {
   "cell_type": "code",
   "execution_count": null,
   "metadata": {},
   "outputs": [],
   "source": [
    "# Path untuk menyimpan file di folder dashboard\n",
    "output_path = \"C:/Users/Aldi/dicoding proyek/ecommerce_dataset/submission/dashboard\"\n",
    "\n",
    "# Pastikan folder dashboard sudah ada\n",
    "import os\n",
    "os.makedirs(output_path, exist_ok=True)\n",
    "\n",
    "# Simpan dataset ke dalam file CSV\n",
    "main_df.to_csv(os.path.join(output_path, \"main_data.csv\"), index=False)\n",
    "\n",
    "print(\"main_data.csv berhasil dibuat di folder dashboard!\")"
   ]
  },
  {
   "cell_type": "code",
   "execution_count": null,
   "metadata": {},
   "outputs": [],
   "source": [
    "# Import library yang dibutuhkan\n",
    "import pandas as pd\n",
    "import os\n",
    "\n",
    "# Path folder dataset\n",
    "dataset_path = \"C:/Users/Aldi/dicoding proyek/ecommerce_dataset/submission/data\"\n",
    "\n",
    "# Load semua dataset\n",
    "customers_df = pd.read_csv(os.path.join(dataset_path, \"customers_dataset.csv\"))\n",
    "geolocation_df = pd.read_csv(os.path.join(dataset_path, \"geolocation_dataset.csv\"))\n",
    "order_items_df = pd.read_csv(os.path.join(dataset_path, \"order_items_dataset.csv\"))\n",
    "order_payments_df = pd.read_csv(os.path.join(dataset_path, \"order_payments_dataset.csv\"))\n",
    "order_reviews_df = pd.read_csv(os.path.join(dataset_path, \"order_reviews_dataset.csv\"))\n",
    "orders_df = pd.read_csv(os.path.join(dataset_path, \"orders_dataset.csv\"))\n",
    "products_df = pd.read_csv(os.path.join(dataset_path, \"products_dataset.csv\"))\n",
    "product_translation_df = pd.read_csv(os.path.join(dataset_path, \"product_category_name_translation.csv\"))\n",
    "sellers_df = pd.read_csv(os.path.join(dataset_path, \"sellers_dataset.csv\"))\n",
    "\n",
    "# Tampilkan beberapa baris pertama dari setiap dataset\n",
    "datasets = {\n",
    "    \"Customers\": customers_df,\n",
    "    \"Geolocation\": geolocation_df,\n",
    "    \"Order Items\": order_items_df,\n",
    "    \"Order Payments\": order_payments_df,\n",
    "    \"Order Reviews\": order_reviews_df,\n",
    "    \"Orders\": orders_df,\n",
    "    \"Products\": products_df,\n",
    "    \"Product Translation\": product_translation_df,\n",
    "    \"Sellers\": sellers_df\n",
    "}\n",
    "\n",
    "for name, df in datasets.items():\n",
    "    print(f\"Dataset: {name}\")\n",
    "    display(df.head())  # Gunakan display() jika di Jupyter Notebook, kalau di script pakai print(df.head())\n",
    "    print(\"\\n\" + \"=\"*50 + \"\\n\")"
   ]
  },
  {
   "cell_type": "markdown",
   "metadata": {
    "id": "MMi6xGaDkbCi"
   },
   "source": [
    "**Insight:**\n",
    "- Dataset berhasil dimuat ke dalam notebook.\n",
    "- Setiap tabel memiliki peran berbeda dalam analisis data.r_items, dan order_payments memiliki keterkaitan untuk analisis penjualan."
   ]
  },
  {
   "cell_type": "markdown",
   "metadata": {
    "id": "FHSiqaZp8DC1"
   },
   "source": [
    "### Assessing Data"
   ]
  },
  {
   "cell_type": "code",
   "execution_count": null,
   "metadata": {
    "id": "ax-3tEjc9Cj1"
   },
   "outputs": [],
   "source": [
    "# List semua dataset dalam dictionary untuk mempermudah iterasi\n",
    "datasets = {\n",
    "    \"customers\": customers_df,\n",
    "    \"geolocation\": geolocation_df,\n",
    "    \"order_items\": order_items_df,\n",
    "    \"order_payments\": order_payments_df,\n",
    "    \"order_reviews\": order_reviews_df,\n",
    "    \"orders\": orders_df,\n",
    "    \"products\": products_df,\n",
    "    \"product_translation\": product_translation_df,\n",
    "    \"sellers\": sellers_df\n",
    "}\n",
    "\n",
    "# Cek informasi umum dari setiap dataset\n",
    "for name, df in datasets.items():\n",
    "    print(f\"Dataset: {name}\")\n",
    "    print(df.info())\n",
    "    print(\"\\n\" + \"=\"*50 + \"\\n\")\n"
   ]
  },
  {
   "cell_type": "markdown",
   "metadata": {
    "id": "7dtxhAPrkhPL"
   },
   "source": [
    "**Insight:**\n",
    "- Dataset dengan banyak missing values perlu diperiksa lebih lanjut.\n",
    "- Pastikan tipe data sesuai (misal, kolom tanggal harus dalam format datetime)."
   ]
  },
  {
   "cell_type": "code",
   "execution_count": null,
   "metadata": {},
   "outputs": [],
   "source": [
    "# Cek missing values\n",
    "for name, df in datasets.items():\n",
    "    print(f\"Missing Values in {name}:\")\n",
    "    print(df.isnull().sum())\n",
    "    print(\"\\n\" + \"=\"*50 + \"\\n\")"
   ]
  },
  {
   "cell_type": "markdown",
   "metadata": {},
   "source": [
    "**Insight:**\n",
    "- Jika banyak missing values, kita harus menentukan apakah perlu dihapus atau diisi.\n",
    "- Kolom kategori atau tanggal yang kosong mungkin perlu diisi dengan nilai default.\n",
    "\n"
   ]
  },
  {
   "cell_type": "code",
   "execution_count": null,
   "metadata": {},
   "outputs": [],
   "source": [
    "# Cek jumlah duplikasi\n",
    "for name, df in datasets.items():\n",
    "    duplicate_count = df.duplicated().sum()\n",
    "    print(f\"Dataset: {name} - Duplicate Rows: {duplicate_count}\")"
   ]
  },
  {
   "cell_type": "markdown",
   "metadata": {},
   "source": [
    "**Insight:**\n",
    "- Jika ada baris duplikat, kita bisa menghapusnya menggunakan df.drop_duplicates().\n",
    "- Dataset seperti orders dan customers seharusnya tidak memiliki duplikasi karena memiliki ID unik."
   ]
  },
  {
   "cell_type": "code",
   "execution_count": null,
   "metadata": {},
   "outputs": [],
   "source": [
    "# Cek nilai unik dalam kolom order_status\n",
    "print(\"Unique order_status values:\", orders_df[\"order_status\"].unique())\n",
    "\n",
    "# Cek apakah ada produk tanpa kategori\n",
    "print(\"Jumlah produk tanpa kategori:\", products_df[\"product_category_name\"].isnull().sum())\n",
    "\n",
    "# Cek apakah ada tanggal yang tidak masuk akal\n",
    "invalid_dates = orders_df[orders_df[\"order_delivered_customer_date\"] < orders_df[\"order_purchase_timestamp\"]]\n",
    "print(\"Jumlah order dengan tanggal tidak valid:\", len(invalid_dates))"
   ]
  },
  {
   "cell_type": "markdown",
   "metadata": {},
   "source": [
    "📌 Insight:\n",
    "- Jika ada status yang aneh (misal, \"unknown\"), kita bisa mengelompokkannya ke dalam kategori lain.\n",
    "- Jika ada produk tanpa kategori, kita bisa menggantinya dengan \"unknown\" atau mencari kategorinya berdasarkan produk lain.\n",
    "- Jika ada tanggal order tidak valid, kita harus mengecek dan memperbaiki kesalahan input."
   ]
  },
  {
   "cell_type": "markdown",
   "metadata": {
    "id": "EhN5R4hr8DC1"
   },
   "source": [
    "### Cleaning Data"
   ]
  },
  {
   "cell_type": "markdown",
   "metadata": {
    "id": "jVnYpprE9Evz"
   },
   "source": [
    "#### Menghapus Kolom yang Tidak Diperlukan"
   ]
  },
  {
   "cell_type": "code",
   "execution_count": null,
   "metadata": {},
   "outputs": [],
   "source": [
    "# Hapus kolom yang tidak relevan\n",
    "geolocation_df.drop(columns=[\"geolocation_zip_code_prefix\"], inplace=True)\n",
    "\n",
    "# Hapus kolom pada datasets lain jika tidak digunakan dalam analisis\n",
    "order_reviews_df.drop(columns=[\"review_comment_title\", \"review_comment_message\"], inplace=True)\n",
    "\n",
    "# Cek hasil\n",
    "geolocation_df.head()"
   ]
  },
  {
   "cell_type": "markdown",
   "metadata": {},
   "source": [
    "📌 Insight:\n",
    "- Menghapus kolom yang tidak akan digunakan mempercepat pemrosesan data."
   ]
  },
  {
   "cell_type": "markdown",
   "metadata": {
    "id": "jVnYpprE9Evz"
   },
   "source": [
    "#### Mengisi missing values yang bisa diperbaiki"
   ]
  },
  {
   "cell_type": "code",
   "execution_count": null,
   "metadata": {},
   "outputs": [],
   "source": [
    "# Hapus baris dengan missing values di kolom penting (jika datanya sedikit)\n",
    "orders_df.dropna(subset=[\"order_delivered_customer_date\"], inplace=True)\n",
    "\n",
    "# Isi missing values di kolom kategori produk dengan \"unknown\"\n",
    "products_df[\"product_category_name\"] = products_df[\"product_category_name\"].fillna(\"unknown\")\n",
    "\n",
    "# Cek apakah masih ada missing values\n",
    "print(products_df.isnull().sum())\n"
   ]
  },
  {
   "cell_type": "markdown",
   "metadata": {},
   "source": [
    "📌 Insight:\n",
    "- Order yang belum dikirim kemungkinan dibatalkan, jadi dihapus.\n",
    "- Produk tanpa kategori diberi label \"unknown\" untuk tetap digunakan."
   ]
  },
  {
   "cell_type": "markdown",
   "metadata": {
    "id": "jVnYpprE9Evz"
   },
   "source": [
    "#### Menghapus data duplikat"
   ]
  },
  {
   "cell_type": "code",
   "execution_count": null,
   "metadata": {},
   "outputs": [],
   "source": [
    "# Hapus data duplikat\n",
    "for name, df in datasets.items():\n",
    "    before = df.shape[0]\n",
    "    df.drop_duplicates(inplace=True)\n",
    "    after = df.shape[0]\n",
    "    print(f\"{name}: {before - after} duplikasi dihapus.\")"
   ]
  },
  {
   "cell_type": "markdown",
   "metadata": {},
   "source": [
    "📌 Insight:\n",
    "- Data duplikat bisa menyebabkan perhitungan yang salah dalam analisis."
   ]
  },
  {
   "cell_type": "markdown",
   "metadata": {
    "id": "jVnYpprE9Evz"
   },
   "source": [
    "#### Memperbaiki inkonsistensi data"
   ]
  },
  {
   "cell_type": "code",
   "execution_count": null,
   "metadata": {},
   "outputs": [],
   "source": [
    "# Filter order status hanya yang valid\n",
    "valid_status = [\"delivered\", \"shipped\", \"processing\", \"approved\"]\n",
    "orders_df = orders_df.loc[orders_df[\"order_status\"].isin(valid_status)].copy()  # Tambahkan .copy()\n",
    "\n",
    "# Konversi kolom tanggal ke format datetime\n",
    "date_columns = [\"order_purchase_timestamp\", \"order_delivered_customer_date\"]\n",
    "for col in date_columns:\n",
    "    orders_df.loc[:, col] = pd.to_datetime(orders_df[col])\n",
    "\n",
    "# Cek hasil\n",
    "print(orders_df.dtypes)"
   ]
  },
  {
   "cell_type": "markdown",
   "metadata": {},
   "source": [
    "📌 Insight:\n",
    "- Menghapus status aneh menghindari kesalahan dalam analisis order.\n",
    "- Format datetime memastikan kita bisa melakukan analisis waktu dengan benar.\n",
    "- Kategori produk dalam lowercase menghindari perbedaan karena huruf besar/kecil."
   ]
  },
  {
   "cell_type": "markdown",
   "metadata": {
    "id": "gp-Y6wU38DC1"
   },
   "source": [
    "## Exploratory Data Analysis (EDA)"
   ]
  },
  {
   "cell_type": "markdown",
   "metadata": {
    "id": "MW7WF2kr8DC1"
   },
   "source": [
    "### Explore Revenue & Penjualan"
   ]
  },
  {
   "cell_type": "code",
   "execution_count": null,
   "metadata": {
    "id": "e9CQCZjk8DC2"
   },
   "outputs": [],
   "source": [
    "# Tambahkan kolom bulan dan tahun\n",
    "orders_df[\"order_purchase_month\"] = orders_df[\"order_purchase_timestamp\"].dt.to_period(\"M\")\n",
    "\n",
    "# Gabungkan order dengan item untuk mendapatkan total revenue\n",
    "order_revenue_df = order_items_df.merge(orders_df, on=\"order_id\", how=\"left\")\n",
    "\n",
    "# Hitung total penjualan dan revenue per bulan\n",
    "sales_trend = order_revenue_df.groupby(\"order_purchase_month\").agg({\n",
    "    \"order_id\": \"count\",\n",
    "    \"price\": \"sum\"\n",
    "}).rename(columns={\"order_id\": \"total_orders\", \"price\": \"total_revenue\"})\n",
    "\n",
    "# Tampilkan hasil\n",
    "sales_trend.tail(5)  # 5 bulan terakhir"
   ]
  },
  {
   "cell_type": "markdown",
   "metadata": {
    "id": "th_Lzl2Fkj9O"
   },
   "source": [
    "**Insight:**\n",
    "- Tren order dan revenue menunjukkan pola musiman atau tren naik/turun.\n",
    "- Kita bisa melihat bulan dengan penjualan tertinggi dan terendah."
   ]
  },
  {
   "cell_type": "markdown",
   "metadata": {
    "id": "MW7WF2kr8DC1"
   },
   "source": [
    "### Produk Terlaris dan Kurang Laku"
   ]
  },
  {
   "cell_type": "code",
   "execution_count": null,
   "metadata": {},
   "outputs": [],
   "source": [
    "# Hitung jumlah produk terjual\n",
    "product_sales = order_items_df.groupby(\"product_id\")[\"order_id\"].count().reset_index()\n",
    "product_sales = product_sales.merge(products_df, on=\"product_id\", how=\"left\")\n",
    "\n",
    "# Urutkan produk berdasarkan jumlah order\n",
    "top_selling_products = product_sales.sort_values(\"order_id\", ascending=False).head(5)\n",
    "least_selling_products = product_sales.sort_values(\"order_id\", ascending=True).head(5)\n",
    "\n",
    "# Tampilkan hasil\n",
    "top_selling_products[[\"product_id\", \"product_category_name\", \"order_id\"]]"
   ]
  },
  {
   "cell_type": "markdown",
   "metadata": {},
   "source": [
    "**Insight**\n",
    "- Produk dengan penjualan tertinggi bisa menjadi fokus promosi.\n",
    "- Produk dengan penjualan terendah bisa dievaluasi untuk penghapusan atau perbaikan strategi."
   ]
  },
  {
   "cell_type": "markdown",
   "metadata": {},
   "source": [
    "###  Analisis Demografi Pelanggan"
   ]
  },
  {
   "cell_type": "code",
   "execution_count": null,
   "metadata": {},
   "outputs": [],
   "source": [
    "# Hitung jumlah pelanggan per state\n",
    "customer_distribution = customers_df[\"customer_state\"].value_counts()\n",
    "\n",
    "# Tampilkan hasil\n",
    "customer_distribution.head(5)  # 5 negara bagian dengan pelanggan terbanyak"
   ]
  },
  {
   "cell_type": "markdown",
   "metadata": {},
   "source": [
    "**Insight**\n",
    "- Negara bagian dengan pelanggan terbanyak bisa menjadi fokus pemasaran.\n",
    "- Kita bisa melihat apakah ada daerah dengan potensi pelanggan baru."
   ]
  },
  {
   "cell_type": "markdown",
   "metadata": {
    "id": "zsyZjqak8DC2"
   },
   "source": [
    "## Visualization & Explanatory Analysis"
   ]
  },
  {
   "cell_type": "markdown",
   "metadata": {
    "id": "HZxOiQ6n8DC2"
   },
   "source": [
    "### Pertanyaan 1: Bagaimana performa penjualan dan revenue perusahaan dalam beberapa bulan terakhir?"
   ]
  },
  {
   "cell_type": "code",
   "execution_count": null,
   "metadata": {
    "id": "1swJUdAD8DC2"
   },
   "outputs": [],
   "source": [
    "import matplotlib.pyplot as plt\n",
    "import seaborn as sns\n",
    "\n",
    "# Konversi period ke datetime agar bisa diproses di grafik\n",
    "sales_trend.index = sales_trend.index.to_timestamp()\n",
    "\n",
    "# Plot tren penjualan dan revenue\n",
    "fig, ax1 = plt.subplots(figsize=(12, 5))\n",
    "\n",
    "# Plot total order\n",
    "ax1.set_title(\"Tren Penjualan & Revenue Perusahaan\", fontsize=14)\n",
    "ax1.set_xlabel(\"Bulan\", fontsize=12)\n",
    "ax1.set_ylabel(\"Total Orders\", fontsize=12, color=\"tab:blue\")\n",
    "ax1.plot(sales_trend.index, sales_trend[\"total_orders\"], marker=\"o\", linestyle=\"-\", color=\"tab:blue\", label=\"Total Orders\")\n",
    "ax1.tick_params(axis=\"y\", labelcolor=\"tab:blue\")\n",
    "\n",
    "# Tambahkan sumbu kedua untuk revenue\n",
    "ax2 = ax1.twinx()\n",
    "ax2.set_ylabel(\"Total Revenue (R$)\", fontsize=12, color=\"tab:orange\")\n",
    "ax2.plot(sales_trend.index, sales_trend[\"total_revenue\"], marker=\"o\", linestyle=\"-\", color=\"tab:orange\", label=\"Total Revenue\")\n",
    "ax2.tick_params(axis=\"y\", labelcolor=\"tab:orange\")\n",
    "\n",
    "fig.tight_layout()\n",
    "plt.show()"
   ]
  },
  {
   "cell_type": "markdown",
   "metadata": {
    "id": "_0-36BDLklRg"
   },
   "source": [
    "**Insight:**\n",
    "- Kita bisa melihat tren penjualan apakah naik atau turun dari bulan ke bulan.\n",
    "- Revenue juga bisa dibandingkan dengan jumlah order untuk melihat harga rata-rata per order."
   ]
  },
  {
   "cell_type": "markdown",
   "metadata": {
    "id": "DgHI7CiU8DC2"
   },
   "source": [
    "### Pertanyaan 2: Produk apa yang paling banyak dan paling sedikit terjual?"
   ]
  },
  {
   "cell_type": "code",
   "execution_count": null,
   "metadata": {
    "id": "Go0lCsvO8DC2"
   },
   "outputs": [],
   "source": [
    "plt.figure(figsize=(10, 5))\n",
    "sns.barplot(y=top_selling_products[\"product_category_name\"], \n",
    "            x=top_selling_products[\"order_id\"], \n",
    "            hue=top_selling_products[\"product_category_name\"],  # Menambahkan hue\n",
    "            dodge=False,  # Hindari pemisahan warna per kategori\n",
    "            legend=False)  # Matikan legend karena tidak perlu\n",
    "plt.xlabel(\"Jumlah Terjual\", fontsize=12)\n",
    "plt.ylabel(\"Kategori Produk\", fontsize=12)\n",
    "plt.title(\"Top 5 Produk Terlaris\", fontsize=14)\n",
    "plt.show()\n"
   ]
  },
  {
   "cell_type": "code",
   "execution_count": null,
   "metadata": {},
   "outputs": [],
   "source": [
    "plt.figure(figsize=(10, 5))\n",
    "sns.barplot(y=least_selling_products[\"product_category_name\"], \n",
    "            x=least_selling_products[\"order_id\"], \n",
    "            hue=least_selling_products[\"product_category_name\"], \n",
    "            dodge=False, \n",
    "            legend=False)\n",
    "plt.xlabel(\"Jumlah Terjual\", fontsize=12)\n",
    "plt.ylabel(\"Kategori Produk\", fontsize=12)\n",
    "plt.title(\"Top 5 Produk dengan Penjualan Terendah\", fontsize=14)\n",
    "plt.show()\n"
   ]
  },
  {
   "cell_type": "markdown",
   "metadata": {
    "id": "_0-36BDLklRg"
   },
   "source": [
    "**Insight:**\n",
    "- Produk terlaris menunjukkan kategori yang paling diminati pelanggan.\n",
    "- Produk kurang laku mungkin perlu dievaluasi, baik dari segi harga, pemasaran, atau stok."
   ]
  },
  {
   "cell_type": "markdown",
   "metadata": {
    "id": "DgHI7CiU8DC2"
   },
   "source": [
    "### Pertanyaan 3: Bagaimana demografi pelanggan yang kita miliki?"
   ]
  },
  {
   "cell_type": "code",
   "execution_count": null,
   "metadata": {},
   "outputs": [],
   "source": [
    "plt.figure(figsize=(10, 5))\n",
    "sns.barplot(x=customer_distribution.index, y=customer_distribution.values)\n",
    "plt.xlabel(\"Lokasi Pelanggan\", fontsize=12)\n",
    "plt.ylabel(\"Jumlah Pelanggan\", fontsize=12)\n",
    "plt.title(\"Distribusi Pelanggan Berdasarkan Lokasi\", fontsize=14)\n",
    "plt.xticks(rotation=45)\n",
    "plt.show()"
   ]
  },
  {
   "cell_type": "markdown",
   "metadata": {},
   "source": [
    "### Insight\n",
    "- Sebagian besar pelanggan berasal dari negara bagian São Paulo (SP).\n",
    "- Bisa menjadi peluang untuk fokus strategi pemasaran di area dengan pelanggan terbanyak."
   ]
  },
  {
   "cell_type": "markdown",
   "metadata": {
    "id": "_WeHlCeX8DC2"
   },
   "source": [
    "## Conclusion"
   ]
  },
  {
   "cell_type": "markdown",
   "metadata": {
    "id": "ZTcyR48Y8DC2"
   },
   "source": [
    "- Berdasarkan analisis data, performa penjualan dan revenue perusahaan menunjukkan pola fluktuatif dalam beberapa bulan terakhir. Terdapat periode tertentu di mana terjadi peningkatan jumlah pesanan dan pendapatan, yang mengindikasikan adanya pola musiman dalam aktivitas penjualan. Dengan memahami pola ini, perusahaan dapat merancang strategi promosi yang lebih efektif pada waktu-waktu tertentu guna memaksimalkan keuntungan. Selain itu, metode pembayaran yang paling sering digunakan oleh pelanggan juga memberikan wawasan bagi perusahaan untuk mengoptimalkan sistem transaksi.\n",
    "\n",
    "- Dari segi produk, terdapat beberapa kategori produk yang sangat diminati oleh pelanggan, sementara beberapa kategori lainnya memiliki angka penjualan yang lebih rendah. Hal ini menunjukkan adanya preferensi pelanggan terhadap jenis produk tertentu yang bisa menjadi dasar dalam pengelolaan stok dan strategi pemasaran. Dengan mengetahui produk terlaris dan kurang diminati, perusahaan dapat menyesuaikan strategi inventaris serta menjalankan promosi yang lebih tepat sasaran untuk meningkatkan penjualan produk yang kurang laku di pasaran.\n",
    "\n",
    "- Terakhir, analisis demografi pelanggan mengungkapkan bahwa mayoritas pelanggan berasal dari kota-kota besar, terutama dari negara bagian São Paulo (SP). Persebaran geografis pelanggan yang tidak merata memberikan peluang bagi perusahaan untuk menargetkan daerah tertentu dalam kampanye pemasaran. Dengan memanfaatkan data lokasi ini, perusahaan dapat mengembangkan strategi yang lebih personalisasi, seperti promosi berbasis lokasi dan penyesuaian logistik agar lebih efisien dalam memenuhi permintaan pelanggan. Secara keseluruhan, hasil analisis ini memberikan wawasan berharga yang dapat membantu perusahaan dalam pengambilan keputusan strategis untuk meningkatkan penjualan dan kepuasan pelanggan."
   ]
  },
  {
   "cell_type": "code",
   "execution_count": 23,
   "metadata": {},
   "outputs": [
    {
     "name": "stdout",
     "output_type": "stream",
     "text": [
      "✅ File main_data.csv berhasil dibuat di: C:/Users/Aldi/dicoding proyek/ecommerce_dataset/submission/dashboard\n"
     ]
    }
   ],
   "source": [
    "import os\n",
    "import pandas as pd\n",
    "\n",
    "# Path dataset\n",
    "dataset_path = \"C:/Users/Aldi/dicoding proyek/ecommerce_dataset/submission/data\"\n",
    "\n",
    "# Load dataset\n",
    "customers_df = pd.read_csv(os.path.join(dataset_path, \"customers_dataset.csv\"))\n",
    "orders_df = pd.read_csv(os.path.join(dataset_path, \"orders_dataset.csv\"), parse_dates=[\"order_purchase_timestamp\"])\n",
    "order_items_df = pd.read_csv(os.path.join(dataset_path, \"order_items_dataset.csv\"))\n",
    "products_df = pd.read_csv(os.path.join(dataset_path, \"products_dataset.csv\"))\n",
    "product_translation_df = pd.read_csv(os.path.join(dataset_path, \"product_category_name_translation.csv\"))\n",
    "sellers_df = pd.read_csv(os.path.join(dataset_path, \"sellers_dataset.csv\"))\n",
    "\n",
    "# Gabungkan order_items_df dengan produk\n",
    "merged_df = order_items_df.merge(products_df, on=\"product_id\", how=\"left\")\n",
    "merged_df = merged_df.merge(product_translation_df, on=\"product_category_name\", how=\"left\")\n",
    "merged_df = merged_df.merge(orders_df, on=\"order_id\", how=\"left\")\n",
    "merged_df = merged_df.merge(customers_df, on=\"customer_id\", how=\"left\")\n",
    "merged_df = merged_df.merge(sellers_df, on=\"seller_id\", how=\"left\")\n",
    "\n",
    "# Tambahkan kolom order_purchase_month\n",
    "merged_df[\"order_purchase_month\"] = merged_df[\"order_purchase_timestamp\"].dt.to_period(\"M\")\n",
    "\n",
    "# Pastikan direktori \"submission/dashboard\" ada\n",
    "dashboard_path = \"C:/Users/Aldi/dicoding proyek/ecommerce_dataset/submission/dashboard\"\n",
    "os.makedirs(dashboard_path, exist_ok=True)\n",
    "\n",
    "# Simpan dataset utama\n",
    "merged_df.to_csv(os.path.join(dashboard_path, \"main_data.csv\"), index=False)\n",
    "\n",
    "print(\"✅ File main_data.csv berhasil dibuat di:\", dashboard_path)\n"
   ]
  },
  {
   "cell_type": "code",
   "execution_count": null,
   "metadata": {},
   "outputs": [],
   "source": []
  }
 ],
 "metadata": {
  "colab": {
   "provenance": []
  },
  "kernelspec": {
   "display_name": "Python [conda env:base] *",
   "language": "python",
   "name": "conda-base-py"
  },
  "language_info": {
   "codemirror_mode": {
    "name": "ipython",
    "version": 3
   },
   "file_extension": ".py",
   "mimetype": "text/x-python",
   "name": "python",
   "nbconvert_exporter": "python",
   "pygments_lexer": "ipython3",
   "version": "3.12.8"
  },
  "vscode": {
   "interpreter": {
    "hash": "972b3bf27e332e87b5379f2791f6ef9dfc79c71018c370b0d7423235e20fe4d7"
   }
  }
 },
 "nbformat": 4,
 "nbformat_minor": 4
}
